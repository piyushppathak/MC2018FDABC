{
  "cells": [
    {
      "metadata": {
        "trusted": true
      },
      "cell_type": "code",
      "source": "import pandas as pd\n#import numpy as ny\n\nloc = \"PhilsFishFactoryData.xlsx\"\ndf = pd.read_excel(loc)\ndf.head(25)\n\ndef weekdaynum(weekday):\n    if(weekday == 'Fri'):\n        return 6\n    elif(weekday == 'sat'):\n        return 7\n    elif(weekday == 'Sat'):\n        return 7    \n    elif(weekday == 'Sun'):\n        return 1\n    elif(weekday == 'Mon'):\n        return 2\n    elif(weekday == 'Tue'):\n        return 3\n    elif(weekday == 'Wed'):\n        return 4\n    elif(weekday == 'Thur'):\n        return 5\n    else:\n        return nothing\n    \ndf['DayNum'] = df['Day'].apply(weekdaynum)\ndf['WPrice'] = df['Wholesale Price ($/lb)']\ndf['LobSales'] = df['# Lobsters sold']\n\ndfNew = df[['DayNum','WPrice','LobSales']].copy()\n\ndfNew.head()",
      "execution_count": 27,
      "outputs": [
        {
          "output_type": "execute_result",
          "execution_count": 27,
          "data": {
            "text/html": "<div>\n<style>\n    .dataframe thead tr:only-child th {\n        text-align: right;\n    }\n\n    .dataframe thead th {\n        text-align: left;\n    }\n\n    .dataframe tbody tr th {\n        vertical-align: top;\n    }\n</style>\n<table border=\"1\" class=\"dataframe\">\n  <thead>\n    <tr style=\"text-align: right;\">\n      <th></th>\n      <th>DayNum</th>\n      <th>WPrice</th>\n      <th>LobSales</th>\n    </tr>\n  </thead>\n  <tbody>\n    <tr>\n      <th>0</th>\n      <td>6</td>\n      <td>7.0</td>\n      <td>4</td>\n    </tr>\n    <tr>\n      <th>1</th>\n      <td>7</td>\n      <td>4.0</td>\n      <td>29</td>\n    </tr>\n    <tr>\n      <th>2</th>\n      <td>1</td>\n      <td>6.5</td>\n      <td>18</td>\n    </tr>\n    <tr>\n      <th>3</th>\n      <td>2</td>\n      <td>5.0</td>\n      <td>17</td>\n    </tr>\n    <tr>\n      <th>4</th>\n      <td>3</td>\n      <td>4.0</td>\n      <td>25</td>\n    </tr>\n  </tbody>\n</table>\n</div>",
            "text/plain": "   DayNum  WPrice  LobSales\n0       6     7.0         4\n1       7     4.0        29\n2       1     6.5        18\n3       2     5.0        17\n4       3     4.0        25"
          },
          "metadata": {}
        }
      ]
    },
    {
      "metadata": {
        "trusted": true
      },
      "cell_type": "code",
      "source": "dfNew.corr()",
      "execution_count": 28,
      "outputs": [
        {
          "output_type": "execute_result",
          "execution_count": 28,
          "data": {
            "text/html": "<div>\n<style>\n    .dataframe thead tr:only-child th {\n        text-align: right;\n    }\n\n    .dataframe thead th {\n        text-align: left;\n    }\n\n    .dataframe tbody tr th {\n        vertical-align: top;\n    }\n</style>\n<table border=\"1\" class=\"dataframe\">\n  <thead>\n    <tr style=\"text-align: right;\">\n      <th></th>\n      <th>DayNum</th>\n      <th>WPrice</th>\n      <th>LobSales</th>\n    </tr>\n  </thead>\n  <tbody>\n    <tr>\n      <th>DayNum</th>\n      <td>1.000000</td>\n      <td>0.062190</td>\n      <td>-0.250974</td>\n    </tr>\n    <tr>\n      <th>WPrice</th>\n      <td>0.062190</td>\n      <td>1.000000</td>\n      <td>-0.627493</td>\n    </tr>\n    <tr>\n      <th>LobSales</th>\n      <td>-0.250974</td>\n      <td>-0.627493</td>\n      <td>1.000000</td>\n    </tr>\n  </tbody>\n</table>\n</div>",
            "text/plain": "            DayNum    WPrice  LobSales\nDayNum    1.000000  0.062190 -0.250974\nWPrice    0.062190  1.000000 -0.627493\nLobSales -0.250974 -0.627493  1.000000"
          },
          "metadata": {}
        }
      ]
    },
    {
      "metadata": {
        "trusted": true
      },
      "cell_type": "code",
      "source": "import statsmodels.formula.api as sm\nresult = sm.ols(formula='LobSales ~ DayNum + WPrice - 1', data=dfNew).fit()\nresult.summary()",
      "execution_count": 30,
      "outputs": [
        {
          "output_type": "stream",
          "text": "/home/nbuser/anaconda3_501/lib/python3.6/site-packages/scipy/stats/stats.py:1334: UserWarning: kurtosistest only valid for n>=20 ... continuing anyway, n=14\n  \"anyway, n=%i\" % int(n))\n",
          "name": "stderr"
        },
        {
          "output_type": "execute_result",
          "execution_count": 30,
          "data": {
            "text/html": "<table class=\"simpletable\">\n<caption>OLS Regression Results</caption>\n<tr>\n  <th>Dep. Variable:</th>        <td>LobSales</td>     <th>  R-squared:         </th> <td>   0.603</td>\n</tr>\n<tr>\n  <th>Model:</th>                   <td>OLS</td>       <th>  Adj. R-squared:    </th> <td>   0.537</td>\n</tr>\n<tr>\n  <th>Method:</th>             <td>Least Squares</td>  <th>  F-statistic:       </th> <td>   9.115</td>\n</tr>\n<tr>\n  <th>Date:</th>             <td>Fri, 05 Oct 2018</td> <th>  Prob (F-statistic):</th>  <td>0.00391</td>\n</tr>\n<tr>\n  <th>Time:</th>                 <td>23:57:15</td>     <th>  Log-Likelihood:    </th> <td> -54.362</td>\n</tr>\n<tr>\n  <th>No. Observations:</th>      <td>    14</td>      <th>  AIC:               </th> <td>   112.7</td>\n</tr>\n<tr>\n  <th>Df Residuals:</th>          <td>    12</td>      <th>  BIC:               </th> <td>   114.0</td>\n</tr>\n<tr>\n  <th>Df Model:</th>              <td>     2</td>      <th>                     </th>     <td> </td>   \n</tr>\n<tr>\n  <th>Covariance Type:</th>      <td>nonrobust</td>    <th>                     </th>     <td> </td>   \n</tr>\n</table>\n<table class=\"simpletable\">\n<tr>\n     <td></td>       <th>coef</th>     <th>std err</th>      <th>t</th>      <th>P>|t|</th>  <th>[0.025</th>    <th>0.975]</th>  \n</tr>\n<tr>\n  <th>DayNum</th> <td>    1.1081</td> <td>    1.537</td> <td>    0.721</td> <td> 0.485</td> <td>   -2.241</td> <td>    4.457</td>\n</tr>\n<tr>\n  <th>WPrice</th> <td>    1.8429</td> <td>    1.271</td> <td>    1.450</td> <td> 0.173</td> <td>   -0.926</td> <td>    4.612</td>\n</tr>\n</table>\n<table class=\"simpletable\">\n<tr>\n  <th>Omnibus:</th>       <td> 2.448</td> <th>  Durbin-Watson:     </th> <td>   1.750</td>\n</tr>\n<tr>\n  <th>Prob(Omnibus):</th> <td> 0.294</td> <th>  Jarque-Bera (JB):  </th> <td>   1.072</td>\n</tr>\n<tr>\n  <th>Skew:</th>          <td>-0.200</td> <th>  Prob(JB):          </th> <td>   0.585</td>\n</tr>\n<tr>\n  <th>Kurtosis:</th>      <td> 1.705</td> <th>  Cond. No.          </th> <td>    3.87</td>\n</tr>\n</table>",
            "text/plain": "<class 'statsmodels.iolib.summary.Summary'>\n\"\"\"\n                            OLS Regression Results                            \n==============================================================================\nDep. Variable:               LobSales   R-squared:                       0.603\nModel:                            OLS   Adj. R-squared:                  0.537\nMethod:                 Least Squares   F-statistic:                     9.115\nDate:                Fri, 05 Oct 2018   Prob (F-statistic):            0.00391\nTime:                        23:57:15   Log-Likelihood:                -54.362\nNo. Observations:                  14   AIC:                             112.7\nDf Residuals:                      12   BIC:                             114.0\nDf Model:                           2                                         \nCovariance Type:            nonrobust                                         \n==============================================================================\n                 coef    std err          t      P>|t|      [0.025      0.975]\n------------------------------------------------------------------------------\nDayNum         1.1081      1.537      0.721      0.485      -2.241       4.457\nWPrice         1.8429      1.271      1.450      0.173      -0.926       4.612\n==============================================================================\nOmnibus:                        2.448   Durbin-Watson:                   1.750\nProb(Omnibus):                  0.294   Jarque-Bera (JB):                1.072\nSkew:                          -0.200   Prob(JB):                        0.585\nKurtosis:                       1.705   Cond. No.                         3.87\n==============================================================================\n\nWarnings:\n[1] Standard Errors assume that the covariance matrix of the errors is correctly specified.\n\"\"\""
          },
          "metadata": {}
        }
      ]
    },
    {
      "metadata": {
        "trusted": true
      },
      "cell_type": "code",
      "source": "",
      "execution_count": null,
      "outputs": []
    }
  ],
  "metadata": {
    "kernelspec": {
      "name": "python36",
      "display_name": "Python 3.6",
      "language": "python"
    },
    "language_info": {
      "mimetype": "text/x-python",
      "nbconvert_exporter": "python",
      "name": "python",
      "pygments_lexer": "ipython3",
      "version": "3.6.6",
      "file_extension": ".py",
      "codemirror_mode": {
        "version": 3,
        "name": "ipython"
      }
    }
  },
  "nbformat": 4,
  "nbformat_minor": 2
}