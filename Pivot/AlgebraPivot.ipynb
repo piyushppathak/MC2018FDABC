{
  "cells": [
    {
      "metadata": {
        "trusted": true
      },
      "cell_type": "code",
      "source": "#Problem Statement\n\n#a) %age of students with a passing grade\n#b) %age of women with a passing grade\n#c) Average hours of study for all students\n#d) Average hours of study for students with a passing grade",
      "execution_count": 21,
      "outputs": []
    },
    {
      "metadata": {
        "trusted": true
      },
      "cell_type": "code",
      "source": "import pandas as pd\nimport numpy as np\n\nloc = \"AlgebraPivotData.xlsx\"\ndf = pd.read_excel(loc)\ndf.head ()",
      "execution_count": 22,
      "outputs": [
        {
          "output_type": "execute_result",
          "execution_count": 22,
          "data": {
            "text/html": "<div>\n<style scoped>\n    .dataframe tbody tr th:only-of-type {\n        vertical-align: middle;\n    }\n\n    .dataframe tbody tr th {\n        vertical-align: top;\n    }\n\n    .dataframe thead th {\n        text-align: right;\n    }\n</style>\n<table border=\"1\" class=\"dataframe\">\n  <thead>\n    <tr style=\"text-align: right;\">\n      <th></th>\n      <th>Fname</th>\n      <th>Lname</th>\n      <th>Gender</th>\n      <th>Grade</th>\n      <th>Hours of Study</th>\n    </tr>\n  </thead>\n  <tbody>\n    <tr>\n      <th>0</th>\n      <td>Mary</td>\n      <td>Ettienne</td>\n      <td>F</td>\n      <td>B</td>\n      <td>16</td>\n    </tr>\n    <tr>\n      <th>1</th>\n      <td>Charles</td>\n      <td>Looner</td>\n      <td>M</td>\n      <td>F</td>\n      <td>8</td>\n    </tr>\n    <tr>\n      <th>2</th>\n      <td>Betty</td>\n      <td>Franklin</td>\n      <td>F</td>\n      <td>A</td>\n      <td>24</td>\n    </tr>\n    <tr>\n      <th>3</th>\n      <td>Roger</td>\n      <td>Withers</td>\n      <td>M</td>\n      <td>C</td>\n      <td>5</td>\n    </tr>\n    <tr>\n      <th>4</th>\n      <td>John</td>\n      <td>Mulgrew</td>\n      <td>M</td>\n      <td>A</td>\n      <td>5</td>\n    </tr>\n  </tbody>\n</table>\n</div>",
            "text/plain": "     Fname     Lname Gender Grade  Hours of Study\n0     Mary  Ettienne      F     B              16\n1  Charles    Looner      M     F               8\n2    Betty  Franklin      F     A              24\n3    Roger   Withers      M     C               5\n4     John   Mulgrew      M     A               5"
          },
          "metadata": {}
        }
      ]
    },
    {
      "metadata": {
        "trusted": true
      },
      "cell_type": "code",
      "source": "df[\"ispassing\"] = np.where(df[\"Grade\"] != 'F', 1, 0)\ndf.head()",
      "execution_count": 23,
      "outputs": [
        {
          "output_type": "execute_result",
          "execution_count": 23,
          "data": {
            "text/html": "<div>\n<style scoped>\n    .dataframe tbody tr th:only-of-type {\n        vertical-align: middle;\n    }\n\n    .dataframe tbody tr th {\n        vertical-align: top;\n    }\n\n    .dataframe thead th {\n        text-align: right;\n    }\n</style>\n<table border=\"1\" class=\"dataframe\">\n  <thead>\n    <tr style=\"text-align: right;\">\n      <th></th>\n      <th>Fname</th>\n      <th>Lname</th>\n      <th>Gender</th>\n      <th>Grade</th>\n      <th>Hours of Study</th>\n      <th>ispassing</th>\n    </tr>\n  </thead>\n  <tbody>\n    <tr>\n      <th>0</th>\n      <td>Mary</td>\n      <td>Ettienne</td>\n      <td>F</td>\n      <td>B</td>\n      <td>16</td>\n      <td>1</td>\n    </tr>\n    <tr>\n      <th>1</th>\n      <td>Charles</td>\n      <td>Looner</td>\n      <td>M</td>\n      <td>F</td>\n      <td>8</td>\n      <td>0</td>\n    </tr>\n    <tr>\n      <th>2</th>\n      <td>Betty</td>\n      <td>Franklin</td>\n      <td>F</td>\n      <td>A</td>\n      <td>24</td>\n      <td>1</td>\n    </tr>\n    <tr>\n      <th>3</th>\n      <td>Roger</td>\n      <td>Withers</td>\n      <td>M</td>\n      <td>C</td>\n      <td>5</td>\n      <td>1</td>\n    </tr>\n    <tr>\n      <th>4</th>\n      <td>John</td>\n      <td>Mulgrew</td>\n      <td>M</td>\n      <td>A</td>\n      <td>5</td>\n      <td>1</td>\n    </tr>\n  </tbody>\n</table>\n</div>",
            "text/plain": "     Fname     Lname Gender Grade  Hours of Study  ispassing\n0     Mary  Ettienne      F     B              16          1\n1  Charles    Looner      M     F               8          0\n2    Betty  Franklin      F     A              24          1\n3    Roger   Withers      M     C               5          1\n4     John   Mulgrew      M     A               5          1"
          },
          "metadata": {}
        }
      ]
    },
    {
      "metadata": {
        "trusted": true
      },
      "cell_type": "code",
      "source": "pd.pivot_table(df, index='ispassing', values = 'Fname', aggfunc='count')",
      "execution_count": 24,
      "outputs": [
        {
          "output_type": "execute_result",
          "execution_count": 24,
          "data": {
            "text/html": "<div>\n<style scoped>\n    .dataframe tbody tr th:only-of-type {\n        vertical-align: middle;\n    }\n\n    .dataframe tbody tr th {\n        vertical-align: top;\n    }\n\n    .dataframe thead th {\n        text-align: right;\n    }\n</style>\n<table border=\"1\" class=\"dataframe\">\n  <thead>\n    <tr style=\"text-align: right;\">\n      <th></th>\n      <th>Fname</th>\n    </tr>\n    <tr>\n      <th>ispassing</th>\n      <th></th>\n    </tr>\n  </thead>\n  <tbody>\n    <tr>\n      <th>0</th>\n      <td>83</td>\n    </tr>\n    <tr>\n      <th>1</th>\n      <td>916</td>\n    </tr>\n  </tbody>\n</table>\n</div>",
            "text/plain": "           Fname\nispassing       \n0             83\n1            916"
          },
          "metadata": {}
        }
      ]
    },
    {
      "metadata": {
        "trusted": true
      },
      "cell_type": "code",
      "source": "totRec = df.count()\n\ndef get_percent(value):\n    tot = value.count()\n    return tot/totRec * 100\n\npd.pivot_table(df, index='ispassing', values = 'Fname', aggfunc=[get_percent])",
      "execution_count": 25,
      "outputs": [
        {
          "output_type": "execute_result",
          "execution_count": 25,
          "data": {
            "text/html": "<div>\n<style scoped>\n    .dataframe tbody tr th:only-of-type {\n        vertical-align: middle;\n    }\n\n    .dataframe tbody tr th {\n        vertical-align: top;\n    }\n\n    .dataframe thead tr th {\n        text-align: left;\n    }\n\n    .dataframe thead tr:last-of-type th {\n        text-align: right;\n    }\n</style>\n<table border=\"1\" class=\"dataframe\">\n  <thead>\n    <tr>\n      <th></th>\n      <th>get_percent</th>\n    </tr>\n    <tr>\n      <th></th>\n      <th>Fname</th>\n    </tr>\n    <tr>\n      <th>ispassing</th>\n      <th></th>\n    </tr>\n  </thead>\n  <tbody>\n    <tr>\n      <th>0</th>\n      <td>8.308308</td>\n    </tr>\n    <tr>\n      <th>1</th>\n      <td>91.691692</td>\n    </tr>\n  </tbody>\n</table>\n</div>",
            "text/plain": "          get_percent\n                Fname\nispassing            \n0            8.308308\n1           91.691692"
          },
          "metadata": {}
        }
      ]
    },
    {
      "metadata": {
        "trusted": true
      },
      "cell_type": "code",
      "source": "df[\"women\"] = np.where(df[\"Gender\"] == 'F', 1, 0)\ndf.head()\n\ntotwomen = df[df[\"Gender\"] == 'F'].count()\ntotwomen = totwomen['women']\n\ndef get_womenpercent(values):\n    passvalue = values.count()\n    return passvalue/totwomen * 100\n\npd.pivot_table(df[df[\"Gender\"] == 'F'], index=['ispassing','women'], values = 'Fname', aggfunc=[get_womenpercent])\n",
      "execution_count": 32,
      "outputs": [
        {
          "output_type": "execute_result",
          "execution_count": 32,
          "data": {
            "text/html": "<div>\n<style scoped>\n    .dataframe tbody tr th:only-of-type {\n        vertical-align: middle;\n    }\n\n    .dataframe tbody tr th {\n        vertical-align: top;\n    }\n\n    .dataframe thead tr th {\n        text-align: left;\n    }\n\n    .dataframe thead tr:last-of-type th {\n        text-align: right;\n    }\n</style>\n<table border=\"1\" class=\"dataframe\">\n  <thead>\n    <tr>\n      <th></th>\n      <th></th>\n      <th>get_womenpercent</th>\n    </tr>\n    <tr>\n      <th></th>\n      <th></th>\n      <th>Fname</th>\n    </tr>\n    <tr>\n      <th>ispassing</th>\n      <th>women</th>\n      <th></th>\n    </tr>\n  </thead>\n  <tbody>\n    <tr>\n      <th>0</th>\n      <th>1</th>\n      <td>4.633205</td>\n    </tr>\n    <tr>\n      <th>1</th>\n      <th>1</th>\n      <td>95.366795</td>\n    </tr>\n  </tbody>\n</table>\n</div>",
            "text/plain": "                get_womenpercent\n                           Fname\nispassing women                 \n0         1             4.633205\n1         1            95.366795"
          },
          "metadata": {}
        }
      ]
    },
    {
      "metadata": {
        "trusted": true
      },
      "cell_type": "code",
      "source": "studcount = df.count()\nstudhours = df['Hours of Study'].sum()\n\nprint(studhours/studcount)",
      "execution_count": 43,
      "outputs": [
        {
          "output_type": "stream",
          "text": "Fname             15.115115\nLname             15.115115\nGender            15.115115\nGrade             15.115115\nHours of Study    15.115115\nispassing         15.115115\nwomen             15.115115\ndtype: float64\n",
          "name": "stdout"
        }
      ]
    },
    {
      "metadata": {
        "trusted": true
      },
      "cell_type": "code",
      "source": "pd.pivot_table(df, index='ispassing', values = 'Hours of Study', aggfunc=np.average)",
      "execution_count": 44,
      "outputs": [
        {
          "output_type": "execute_result",
          "execution_count": 44,
          "data": {
            "text/html": "<div>\n<style scoped>\n    .dataframe tbody tr th:only-of-type {\n        vertical-align: middle;\n    }\n\n    .dataframe tbody tr th {\n        vertical-align: top;\n    }\n\n    .dataframe thead th {\n        text-align: right;\n    }\n</style>\n<table border=\"1\" class=\"dataframe\">\n  <thead>\n    <tr style=\"text-align: right;\">\n      <th></th>\n      <th>Hours of Study</th>\n    </tr>\n    <tr>\n      <th>ispassing</th>\n      <th></th>\n    </tr>\n  </thead>\n  <tbody>\n    <tr>\n      <th>0</th>\n      <td>6.722892</td>\n    </tr>\n    <tr>\n      <th>1</th>\n      <td>15.875546</td>\n    </tr>\n  </tbody>\n</table>\n</div>",
            "text/plain": "           Hours of Study\nispassing                \n0                6.722892\n1               15.875546"
          },
          "metadata": {}
        }
      ]
    },
    {
      "metadata": {
        "trusted": true
      },
      "cell_type": "code",
      "source": "",
      "execution_count": null,
      "outputs": []
    }
  ],
  "metadata": {
    "kernelspec": {
      "name": "python36",
      "display_name": "Python 3.6",
      "language": "python"
    },
    "language_info": {
      "mimetype": "text/x-python",
      "nbconvert_exporter": "python",
      "name": "python",
      "pygments_lexer": "ipython3",
      "version": "3.6.6",
      "file_extension": ".py",
      "codemirror_mode": {
        "version": 3,
        "name": "ipython"
      }
    }
  },
  "nbformat": 4,
  "nbformat_minor": 2
}