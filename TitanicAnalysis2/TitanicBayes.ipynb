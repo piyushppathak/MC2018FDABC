{
  "cells": [
    {
      "metadata": {
        "trusted": true
      },
      "cell_type": "code",
      "source": "import pandas as pd\nimport numpy as np\n\nLocation = \"titanic3.xls\"\ndf = pd.read_excel(Location)\ndf.head()\n\n# Define bins as 0 to 1, 2 to 4, 5 to 11, 12 to 19, 20 to 100\n# Create the bin dividers\nagebins = [0, 1, 4, 11, 19, 100]\n\n# Create names for the groups\nage_names = ['infant', 'toddler', 'child', 'teen', 'adult']\n\ndf['ageclass'] = pd.cut(df['age'], agebins, labels=age_names)\n#df.head()\n\nt_p = df['name'].count()\n#print(t_p)\n          \nt_s_p = df[(df['survived'] == 1)].count().survived\n#print(t_s_p)\n\nc_2_t = df[(df['ageclass'] == 'child') & (df['pclass'] == 2)].count().ageclass\nc_2_s_t = df[(df['ageclass'] == 'child') & (df['survived'] == 1) & (df['pclass'] == 2)].count().survived\nc_2_d_t = df[(df['ageclass'] == 'child') & (df['survived'] == 0) & (df['pclass'] == 2)].count().survived\nc_2_s_m_t = df[(df['ageclass'] == 'child') & (df['survived'] == 1) & (df['sex'] == 'male') & (df['pclass'] == 2)].count().survived\nc_2_s_f_t = df[(df['ageclass'] == 'child') & (df['survived'] == 1) & (df['sex'] == 'female') & (df['pclass'] == 2)].count().survived\n#print(c_2_t, c_2_s_t, c_2_s_m_t, c_2_s_f_t, c_2_d_t)\n\nc_2_s_m_p =  c_2_s_m_t / c_2_t\n#print (c_2_s_m_p)\n\na_3_t = df[(df['ageclass'] == 'adult') & (df['pclass'] == 3)].count().survived\na_3_s_t = df[(df['ageclass'] == 'adult') & (df['survived'] == 1) & (df['pclass'] == 3)].count().survived\na_3_d_t = df[(df['ageclass'] == 'adult') & (df['survived'] == 0) & (df['pclass'] == 3)].count().survived\na_3_s_f_t = df[(df['ageclass'] == 'adult') & (df['survived'] == 1) & (df['sex'] == 'female') & (df['pclass'] == 3)].count().survived\na_3_s_m_t = df[(df['ageclass'] == 'adult') & (df['survived'] == 1) & (df['sex'] == 'male') & (df['pclass'] == 3)].count().survived\n#print(a_3_t, a_3_s_t, a_3_s_f_t, a_3_s_m_t, a_3_d_t)\n\na_3_s_f_p =  a_3_s_f_t / a_3_t\n#print (a_3_s_f_p)\n\na_1_t = df[(df['ageclass'] == 'adult') & (df['pclass'] == 1)].count().survived\na_1_s_t = df[(df['ageclass'] == 'adult') & (df['survived'] == 1) & (df['pclass'] == 1)].count().survived\na_1_d_t = df[(df['ageclass'] == 'adult') & (df['survived'] == 0) & (df['pclass'] == 1)].count().survived\na_1_s_m_t = df[(df['ageclass'] == 'adult') & (df['survived'] == 1) & (df['sex'] == 'male') & (df['pclass'] == 1)].count().survived\na_1_s_f_t = df[(df['ageclass'] == 'adult') & (df['survived'] == 1) & (df['sex'] == 'female') & (df['pclass'] == 1)].count().survived\n#print(a_1_t, a_1_s_t, a_1_s_m_t, a_1_s_f_t, a_1_d_t)\n\na_1_s_m_p =  a_1_s_m_t / a_1_t\n#print (a_1_s_m_p)\n\ndef computeBayes(s, numsurvive):\n    return s * numsurvive\n\n#Child in 2nd Class, Female in 3rd Class, Man in 1st Class\np_c2_survive = computeBayes(c_2_s_m_p, (c_2_t / t_s_p)) #(c_2_p + a_3_p + a_1_p)))\np_f3_survive  = computeBayes(a_3_s_f_p, (a_3_t / t_s_p)) #(c_2_p + a_3_p + a_1_p)))\np_m1_survive = computeBayes(a_1_s_m_p,  (a_1_t/t_s_p))\n\nprint(p_c2_survive)\nprint(p_f3_survive)\nprint(p_m1_survive)",
      "execution_count": 65,
      "outputs": [
        {
          "output_type": "stream",
          "text": "0.004\n0.076\n0.094\n",
          "name": "stdout"
        }
      ]
    },
    {
      "metadata": {
        "trusted": true
      },
      "cell_type": "code",
      "source": "",
      "execution_count": null,
      "outputs": []
    },
    {
      "metadata": {
        "trusted": true
      },
      "cell_type": "code",
      "source": "",
      "execution_count": null,
      "outputs": []
    }
  ],
  "metadata": {
    "kernelspec": {
      "name": "python36",
      "display_name": "Python 3.6",
      "language": "python"
    },
    "language_info": {
      "mimetype": "text/x-python",
      "nbconvert_exporter": "python",
      "name": "python",
      "pygments_lexer": "ipython3",
      "version": "3.6.6",
      "file_extension": ".py",
      "codemirror_mode": {
        "version": 3,
        "name": "ipython"
      }
    }
  },
  "nbformat": 4,
  "nbformat_minor": 2
}